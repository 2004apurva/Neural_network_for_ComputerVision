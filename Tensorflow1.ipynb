{
 "cells": [
  {
   "cell_type": "markdown",
   "metadata": {},
   "source": [
    "# Tensorflow\n"
   ]
  },
  {
   "cell_type": "code",
   "execution_count": 1,
   "metadata": {},
   "outputs": [],
   "source": [
    "import tensorflow as tf"
   ]
  },
  {
   "cell_type": "markdown",
   "metadata": {},
   "source": [
    "## Tensor\n",
    "In the context of data science, tensors are multi-dimensional arrays of numbers that represent complex data. They are the fundamental data structures used in machine learning and deep learning frameworks like TensorFlow and PyTorch.\n"
   ]
  },
  {
   "cell_type": "markdown",
   "metadata": {},
   "source": [
    "#### Initialization of Tensor"
   ]
  },
  {
   "cell_type": "code",
   "execution_count": 2,
   "metadata": {},
   "outputs": [
    {
     "name": "stdout",
     "output_type": "stream",
     "text": [
      "tf.Tensor(\n",
      "[[2 3 4]\n",
      " [3 4 5]], shape=(2, 3), dtype=int32)\n"
     ]
    }
   ],
   "source": [
    "#In other words Creating an tensor in creating an matrix\n",
    "\n",
    "x = tf.constant([[2,3,4],[3,4,5]],shape=(2,3),dtype=tf.int32)\n",
    "\n",
    "print(x)"
   ]
  },
  {
   "cell_type": "code",
   "execution_count": 3,
   "metadata": {},
   "outputs": [
    {
     "name": "stdout",
     "output_type": "stream",
     "text": [
      "tf.Tensor(\n",
      "[[1 1 1]\n",
      " [1 1 1]\n",
      " [1 1 1]], shape=(3, 3), dtype=int32)\n"
     ]
    }
   ],
   "source": [
    "# Creating matrix/tensor of ones with specific dimention and datatype \n",
    "\n",
    "x = tf.ones((3,3), dtype=tf.int32 )\n",
    "\n",
    "print(x)"
   ]
  },
  {
   "cell_type": "code",
   "execution_count": 7,
   "metadata": {},
   "outputs": [
    {
     "name": "stdout",
     "output_type": "stream",
     "text": [
      "tf.Tensor(\n",
      "[[0. 0. 0.]\n",
      " [0. 0. 0.]\n",
      " [0. 0. 0.]], shape=(3, 3), dtype=float32)\n"
     ]
    }
   ],
   "source": [
    "# Creating matrix/tensor of zeros with specific dimention and datatype \n",
    "\n",
    "\n",
    "x = tf.zeros((3,3), dtype=tf.float32 )\n",
    "print(x)"
   ]
  },
  {
   "cell_type": "code",
   "execution_count": 8,
   "metadata": {},
   "outputs": [
    {
     "name": "stdout",
     "output_type": "stream",
     "text": [
      "tf.Tensor(\n",
      "[[-0.86109746 -1.6804336  -1.4363093 ]\n",
      " [-1.1378163  -1.4825509   2.0929785 ]\n",
      " [ 0.11069465 -0.7074017   0.36067188]], shape=(3, 3), dtype=float32)\n"
     ]
    }
   ],
   "source": [
    "# Creating matrix/tensor of random values with specific dimention and datatype \n",
    "\n",
    "x = tf.random.normal((3,3),mean=0, stddev=1)\n",
    "print(x)"
   ]
  },
  {
   "cell_type": "markdown",
   "metadata": {},
   "source": [
    "## Mathematical Operation "
   ]
  },
  {
   "cell_type": "code",
   "execution_count": 13,
   "metadata": {},
   "outputs": [
    {
     "name": "stdout",
     "output_type": "stream",
     "text": [
      "tf.Tensor([5 7 9], shape=(3,), dtype=int32)\n",
      "tf.Tensor([-3 -3 -3], shape=(3,), dtype=int32)\n",
      "tf.Tensor([0.25 0.4  0.5 ], shape=(3,), dtype=float64)\n"
     ]
    }
   ],
   "source": [
    "# Sone mathematical operations on the created matrix\n",
    "\n",
    "x = tf.constant([1,2,3])\n",
    "y = tf.constant([4,5,6])\n",
    "\n",
    "z = tf.add(x,y)\n",
    "print(z)\n",
    "\n",
    "k = tf.subtract(x,y)\n",
    "print(k)\n",
    "\n",
    "l = tf.divide(x,y)\n",
    "print(l)"
   ]
  },
  {
   "cell_type": "code",
   "execution_count": 12,
   "metadata": {},
   "outputs": [
    {
     "name": "stdout",
     "output_type": "stream",
     "text": [
      "tf.Tensor(\n",
      "[[ 1.4435412   0.5120111  -0.7610575 ]\n",
      " [-1.0564437  -0.3095165   0.33338532]\n",
      " [-0.52584386 -0.35301808 -1.4553332 ]], shape=(3, 3), dtype=float32)\n",
      "tf.Tensor(\n",
      "[[ 1.3138072   0.17399165  0.56398606]\n",
      " [-2.0593479   0.5096774   0.92672265]\n",
      " [-0.6954625   0.87199867  0.13124304]], shape=(3, 3), dtype=float32)\n",
      "tf.Tensor(\n",
      "[[ 1.3714128  -0.15151653  1.188746  ]\n",
      " [-0.9824183  -0.05085438 -0.838901  ]\n",
      " [ 1.0482593  -1.5404664  -0.8147208 ]], shape=(3, 3), dtype=float32)\n"
     ]
    }
   ],
   "source": [
    "# Matrix Multiplication\n",
    "\n",
    "x = tf.random.normal((3,3))\n",
    "y = tf.random.normal((3,3))\n",
    "\n",
    "z = tf.matmul(x,y)\n",
    "print(x)\n",
    "print(y)\n",
    "print(z)"
   ]
  },
  {
   "cell_type": "code",
   "execution_count": 16,
   "metadata": {},
   "outputs": [
    {
     "name": "stdout",
     "output_type": "stream",
     "text": [
      "tf.Tensor([ 0  1  2  3  4  5  6  7  8  9 10], shape=(11,), dtype=int32)\n",
      "tf.Tensor([1 2 3 4 5], shape=(5,), dtype=int32)\n"
     ]
    }
   ],
   "source": [
    "# Matrix Indexing\n",
    "# Mostly similar to the pandas indexing of the multidimentional array\n",
    "# \"\"   (x[start,stop,steps])  \"\"\n",
    "\n",
    "x = tf.constant([0,1,2,3,4,5,6,7,8,9,10])\n",
    "print(x[:])\n",
    "print(x[1:6])"
   ]
  },
  {
   "cell_type": "code",
   "execution_count": 19,
   "metadata": {},
   "outputs": [
    {
     "name": "stdout",
     "output_type": "stream",
     "text": [
      "tf.Tensor([0 8], shape=(2,), dtype=int32)\n"
     ]
    }
   ],
   "source": [
    "# Taking some specific values from other matrix\n",
    "\n",
    "x = tf.constant([0,1,2,3,4,5,7,8,9,10])\n",
    "\n",
    "indices = tf.constant([0,7])\n",
    "\n",
    "x_ind = tf.gather(x,indices)\n",
    "\n",
    "print(x_ind)"
   ]
  },
  {
   "cell_type": "markdown",
   "metadata": {},
   "source": [
    "## Reshaping "
   ]
  },
  {
   "cell_type": "code",
   "execution_count": 21,
   "metadata": {},
   "outputs": [
    {
     "name": "stdout",
     "output_type": "stream",
     "text": [
      "tf.Tensor([0 1 2 3 4 5 6 7 8], shape=(9,), dtype=int32)\n",
      "tf.Tensor(\n",
      "[[0 1 2]\n",
      " [3 4 5]\n",
      " [6 7 8]], shape=(3, 3), dtype=int32)\n"
     ]
    }
   ],
   "source": [
    "# Original matirix\n",
    "x = tf.range(9)\n",
    "print(x)\n",
    "\n",
    "# Reshaped matrix\n",
    "y = tf.reshape(x, (3,3))\n",
    "print(y)"
   ]
  }
 ],
 "metadata": {
  "kernelspec": {
   "display_name": "Python 3",
   "language": "python",
   "name": "python3"
  },
  "language_info": {
   "codemirror_mode": {
    "name": "ipython",
    "version": 3
   },
   "file_extension": ".py",
   "mimetype": "text/x-python",
   "name": "python",
   "nbconvert_exporter": "python",
   "pygments_lexer": "ipython3",
   "version": "3.12.4"
  }
 },
 "nbformat": 4,
 "nbformat_minor": 2
}
