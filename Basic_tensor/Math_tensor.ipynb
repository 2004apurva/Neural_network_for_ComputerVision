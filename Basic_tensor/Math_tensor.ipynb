{
 "cells": [
  {
   "cell_type": "code",
   "execution_count": 2,
   "metadata": {},
   "outputs": [],
   "source": [
    "import tensorflow as tf\n",
    "import numpy as np"
   ]
  },
  {
   "cell_type": "markdown",
   "metadata": {},
   "source": [
    "### Absolute value"
   ]
  },
  {
   "cell_type": "code",
   "execution_count": 6,
   "metadata": {},
   "outputs": [
    {
     "data": {
      "text/plain": [
       "<tf.Tensor: shape=(2,), dtype=float32, numpy=array([2.3, 9.1], dtype=float32)>"
      ]
     },
     "execution_count": 6,
     "metadata": {},
     "output_type": "execute_result"
    }
   ],
   "source": [
    "# This function did't convert your actual tensor to absolute value bhut it convert so you can use it in other verable or other function\n",
    "# Your original variable remain unchanges \n",
    "\n",
    "x_abs = tf.constant([-2.3,9.1])\n",
    "\n",
    "tf.abs(x_abs)\n"
   ]
  },
  {
   "cell_type": "markdown",
   "metadata": {},
   "source": [
    "### Elementwise addition , division , substraction "
   ]
  },
  {
   "cell_type": "code",
   "execution_count": 41,
   "metadata": {},
   "outputs": [
    {
     "name": "stdout",
     "output_type": "stream",
     "text": [
      "tf.Tensor([6 6 6 6 6], shape=(5,), dtype=int32)\n",
      "tf.Tensor([-4 -2  0  2  4], shape=(5,), dtype=int32)\n",
      "tf.Tensor([0.2 0.5 1.  2.  5. ], shape=(5,), dtype=float64)\n",
      "tf.Tensor([0.2 0.5 1.  2.  5. ], shape=(5,), dtype=float64)\n"
     ]
    }
   ],
   "source": [
    "# The shape and type of the tensor should be same for mathematical operations\n",
    "\n",
    "x_1 = tf.constant([1,2,3,4,5])\n",
    "x_2 = tf.constant([5,4,3,2,1])\n",
    "\n",
    "add = print(tf.math.add(x_1,x_2))\n",
    "\n",
    "sub = print(tf.math.subtract(x_1,x_2))\n",
    "\n",
    "div = print(tf.math.divide(x_1,x_2))\n",
    "\n",
    "print(tf.math.divide_no_nan(x_1,x_2))"
   ]
  },
  {
   "cell_type": "markdown",
   "metadata": {},
   "source": [
    "### Method is used to find the maximum value across the axes \n",
    "\n",
    "##### This shows the maximum value across the axes\n",
    "\n",
    "def argmax( <br>\n",
    ">>>input: Any,<br>\n",
    ">>>axis: Any | None = None,<br>\n",
    ">>>output_type: DType = dtypes.int64,<br>\n",
    ">>>name: Any | None = None<br>\n",
    "\n",
    "):\n"
   ]
  },
  {
   "cell_type": "code",
   "execution_count": 17,
   "metadata": {},
   "outputs": [
    {
     "name": "stdout",
     "output_type": "stream",
     "text": [
      "tf.Tensor([1 2 3 4 5 6], shape=(6,), dtype=int32)\n",
      "tf.Tensor(5, shape=(), dtype=int64)\n"
     ]
    }
   ],
   "source": [
    "#  1D tensor:\n",
    "\n",
    "# tf.Tensor(5, shape=(), dtype=int64) this is the output shows the position of the max value\n",
    "\n",
    "x_argmax = tf.constant([1,2,3,4,5,6])\n",
    "\n",
    "print(x_argmax)\n",
    "\n",
    "print(tf.math.argmax(x_argmax))"
   ]
  },
  {
   "cell_type": "code",
   "execution_count": 42,
   "metadata": {},
   "outputs": [
    {
     "name": "stdout",
     "output_type": "stream",
     "text": [
      "tf.Tensor(\n",
      "[[ 2  4 53]\n",
      " [ 4  5  6]\n",
      " [ 4  5  7]], shape=(3, 3), dtype=int32)\n",
      "tf.Tensor([2 2 2], shape=(3,), dtype=int64)\n"
     ]
    }
   ],
   "source": [
    "#  2D tensor\n",
    "\n",
    "y_argmax = tf.constant([[2,4,53],[4,5,6],[4,5,7]])\n",
    "\n",
    "print(y_argmax)\n",
    "\n",
    "print(tf.math.argmax(y_argmax,1)) # 1 is the axis  \n",
    "\n",
    "# AXIS 0 vvvvvv (default) \n",
    "\n",
    "# AXIS 1 >>>>>"
   ]
  },
  {
   "cell_type": "markdown",
   "metadata": {},
   "source": [
    "### Elementwise equal Checker\n",
    "\n",
    "Returns the truth value of (x == y) element-wise. <br>\n",
    "Should be of same shape"
   ]
  },
  {
   "cell_type": "code",
   "execution_count": 37,
   "metadata": {},
   "outputs": [
    {
     "name": "stdout",
     "output_type": "stream",
     "text": [
      "tf.Tensor([ True  True  True  True], shape=(4,), dtype=bool)\n"
     ]
    }
   ],
   "source": [
    "# 1D tensor\n",
    "\n",
    "X_equal = tf.constant([1,2,5,2])\n",
    "Y_equal = tf.constant([1,2,5,2])\n",
    "\n",
    "print(tf.math.equal(X_equal,Y_equal))\n"
   ]
  },
  {
   "cell_type": "markdown",
   "metadata": {},
   "source": [
    "### Computes the power of one value to another"
   ]
  },
  {
   "cell_type": "code",
   "execution_count": 44,
   "metadata": {},
   "outputs": [
    {
     "data": {
      "text/plain": [
       "<tf.Tensor: shape=(2, 2), dtype=int32, numpy=\n",
       "array([[  256, 65536],\n",
       "       [    9,    27]], dtype=int32)>"
      ]
     },
     "execution_count": 44,
     "metadata": {},
     "output_type": "execute_result"
    }
   ],
   "source": [
    "x = tf.constant([[2, 2], [3, 3]])\n",
    "y = tf.constant([[8, 16], [2, 3]])\n",
    "tf.pow(x, y)  # [[256, 65536], [9, 27]]"
   ]
  },
  {
   "cell_type": "markdown",
   "metadata": {},
   "source": [
    "### Reduce Sum\n",
    "\n",
    "It Basically Add all the element on the basisi of axis\n",
    "\n",
    "axis = None  (Sum of all the elemnt) <br>\n",
    "axis = 0     (Sum of all vvvvv)<br>\n",
    "axis = 1     (Sum of all >>>>>)<br>"
   ]
  },
  {
   "cell_type": "code",
   "execution_count": 48,
   "metadata": {},
   "outputs": [
    {
     "name": "stdout",
     "output_type": "stream",
     "text": [
      "tf.Tensor(\n",
      "[[ 2  4 53]\n",
      " [ 4  5  6]\n",
      " [ 4  5  7]], shape=(3, 3), dtype=int32)\n",
      "tf.Tensor([10 14 66], shape=(3,), dtype=int32)\n"
     ]
    }
   ],
   "source": [
    "\n",
    "y = tf.constant([[2,4,53],[4,5,6],[4,5,7]])\n",
    "print(y)\n",
    "\n",
    "\n",
    "print(tf.math.reduce_sum(\n",
    "    y, axis=0, keepdims=False, name=None\n",
    "))"
   ]
  },
  {
   "cell_type": "markdown",
   "metadata": {},
   "source": [
    "### Reduce Mean\n",
    "\n",
    "Computes the mean of elements across dimensions of a tensor.\n",
    "\n",
    "It Basically give mean on the basisi of axis\n",
    "\n",
    "axis = None  (Mean of all the elemnt)<br>\n",
    "axis = 0     (Mean of all vvvvv)<br>\n",
    "axis = 1     (Mean of all >>>>>)<br>"
   ]
  },
  {
   "cell_type": "code",
   "execution_count": 58,
   "metadata": {},
   "outputs": [
    {
     "name": "stdout",
     "output_type": "stream",
     "text": [
      "tf.Tensor(\n",
      "[[ 2.  4. 53.]\n",
      " [ 4.  5.  6.]\n",
      " [ 4.  5.  7.]], shape=(3, 3), dtype=float32)\n",
      "tf.Tensor([ 3.3333333  4.6666665 22.       ], shape=(3,), dtype=float32)\n"
     ]
    }
   ],
   "source": [
    "y = tf.constant([[2,4,53],[4,5,6],[4,5,7]],dtype=tf.float32)\n",
    "print(y)\n",
    "\n",
    "print(tf.math.reduce_mean(\n",
    "    y, axis=0, keepdims=False, name=None\n",
    "))"
   ]
  },
  {
   "cell_type": "markdown",
   "metadata": {},
   "source": [
    "### Standard deviation\n",
    "\n",
    "Computes the standard deviation of elements across dimensions of a tensor.\n",
    "\n"
   ]
  },
  {
   "cell_type": "code",
   "execution_count": 57,
   "metadata": {},
   "outputs": [
    {
     "name": "stdout",
     "output_type": "stream",
     "text": [
      "tf.Tensor(\n",
      "[[ 2.  4. 53.]\n",
      " [ 4.  5.  6.]\n",
      " [ 4.  5.  7.]], shape=(3, 3), dtype=float32)\n",
      "tf.Tensor(15.260697, shape=(), dtype=float32)\n"
     ]
    }
   ],
   "source": [
    "y = tf.constant([[2,4,53],[4,5,6],[4,5,7]],dtype=tf.float32)\n",
    "print(y)\n",
    "\n",
    "print(tf.math.reduce_std(\n",
    "    y, axis=None, keepdims=False, name=None\n",
    "))"
   ]
  },
  {
   "cell_type": "markdown",
   "metadata": {},
   "source": [
    "### TOP Function\n",
    "\n",
    "Finds values and indices of the k largest entries for the last dimension.\n",
    "\n",
    "This function go to each and every Row and find top_k values"
   ]
  },
  {
   "cell_type": "code",
   "execution_count": 62,
   "metadata": {},
   "outputs": [
    {
     "name": "stdout",
     "output_type": "stream",
     "text": [
      "tf.Tensor(\n",
      "[[ 2.  4. 53.]\n",
      " [ 4.  5.  6.]\n",
      " [ 4.  5.  7.]], shape=(3, 3), dtype=float32)\n",
      "TopKV2(values=<tf.Tensor: shape=(3, 1), dtype=float32, numpy=\n",
      "array([[53.],\n",
      "       [ 6.],\n",
      "       [ 7.]], dtype=float32)>, indices=<tf.Tensor: shape=(3, 1), dtype=int32, numpy=\n",
      "array([[2],\n",
      "       [2],\n",
      "       [2]], dtype=int32)>)\n"
     ]
    }
   ],
   "source": [
    "# The second array in the output is the index of the top k value\n",
    "\n",
    "y = tf.constant([[2,4,53],[4,5,6],[4,5,7]],dtype=tf.float32)\n",
    "print(y)\n",
    "\n",
    "print(tf.math.top_k(\n",
    "    y,\n",
    "    k=1,\n",
    "    sorted=True,\n",
    "    index_type=tf.dtypes.int32,\n",
    "    name=None\n",
    "))"
   ]
  }
 ],
 "metadata": {
  "kernelspec": {
   "display_name": "Python 3",
   "language": "python",
   "name": "python3"
  },
  "language_info": {
   "codemirror_mode": {
    "name": "ipython",
    "version": 3
   },
   "file_extension": ".py",
   "mimetype": "text/x-python",
   "name": "python",
   "nbconvert_exporter": "python",
   "pygments_lexer": "ipython3",
   "version": "3.12.4"
  }
 },
 "nbformat": 4,
 "nbformat_minor": 2
}
